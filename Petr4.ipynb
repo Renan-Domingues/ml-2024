{
  "nbformat": 4,
  "nbformat_minor": 0,
  "metadata": {
    "colab": {
      "provenance": [],
      "authorship_tag": "ABX9TyNXjgMFSqTirTap+dG346Lo",
      "include_colab_link": true
    },
    "kernelspec": {
      "name": "python3",
      "display_name": "Python 3"
    },
    "language_info": {
      "name": "python"
    }
  },
  "cells": [
    {
      "cell_type": "markdown",
      "metadata": {
        "id": "view-in-github",
        "colab_type": "text"
      },
      "source": [
        "<a href=\"https://colab.research.google.com/github/Renan-Domingues/ml-2024/blob/main/Petr4.ipynb\" target=\"_parent\"><img src=\"https://colab.research.google.com/assets/colab-badge.svg\" alt=\"Open In Colab\"/></a>"
      ]
    },
    {
      "cell_type": "markdown",
      "source": [
        "# I'm training a NN with TensorFlow to predict the stocks from petr4 (Petrobras)."
      ],
      "metadata": {
        "id": "iDC_TwmMAf-P"
      }
    },
    {
      "cell_type": "markdown",
      "source": [
        "### The goal is to analyse the parameters and predict if the next day the prices will rise or fall\n"
      ],
      "metadata": {
        "id": "cjZMwOUIA65j"
      }
    },
    {
      "cell_type": "code",
      "source": [
        "import pandas as pd\n",
        "import yfinance as yf\n",
        "from datetime import datetime, timedelta\n",
        "import matplotlib.pyplot as plt\n",
        "import tensorflow as tf\n",
        "from sklearn.model_selection import train_test_split\n",
        "\n"
      ],
      "metadata": {
        "id": "vyvhZjtQQqZz",
        "colab": {
          "base_uri": "https://localhost:8080/"
        },
        "outputId": "4009f821-5ef0-42ef-ddd1-a36d542b83d9"
      },
      "execution_count": null,
      "outputs": [
        {
          "output_type": "stream",
          "name": "stderr",
          "text": [
            "/usr/local/lib/python3.10/dist-packages/yfinance/base.py:48: FutureWarning: The default dtype for empty Series will be 'object' instead of 'float64' in a future version. Specify a dtype explicitly to silence this warning.\n",
            "  _empty_series = pd.Series()\n"
          ]
        }
      ]
    },
    {
      "cell_type": "markdown",
      "source": [
        "## Preparing the data"
      ],
      "metadata": {
        "id": "tQGcVWziBNB2"
      }
    },
    {
      "cell_type": "code",
      "source": [
        "# Definindo o ticker da Petrobras\n",
        "ticker = \"PETR4.SA\"  # O \".SA\" indica que é da Bolsa de Valores do Brasil\n",
        "\n",
        "# Obtendo a data de hoje e a data há 360 dias atrás\n",
        "hoje = datetime.today().strftime('%Y-%m-%d')\n",
        "um_ano_atras = (datetime.today() - timedelta(days=360)).strftime('%Y-%m-%d')\n",
        "\n",
        "# Buscando os dados da Petrobras na Yahoo Finance\n",
        "dados_petrobras = yf.download(ticker, start=um_ano_atras, end=hoje)\n",
        "\n",
        "# Filtrando os dados necessários (abertura, fechamento, máxima, mínima e ajuste)\n",
        "petr4 = dados_petrobras\n"
      ],
      "metadata": {
        "colab": {
          "base_uri": "https://localhost:8080/"
        },
        "id": "TZvXkyx7wsY7",
        "outputId": "320a5d5b-0e3e-4484-a841-d582dbea71c4"
      },
      "execution_count": null,
      "outputs": [
        {
          "output_type": "stream",
          "name": "stderr",
          "text": [
            "\r[*********************100%%**********************]  1 of 1 completed\n"
          ]
        }
      ]
    },
    {
      "cell_type": "code",
      "source": [
        "# Exebir dados\n",
        "print(petr4.tail(5))"
      ],
      "metadata": {
        "colab": {
          "base_uri": "https://localhost:8080/"
        },
        "id": "1a81Bz8L6t9O",
        "outputId": "1fbf785b-0743-4f80-8e68-a80535aeeaa4"
      },
      "execution_count": null,
      "outputs": [
        {
          "output_type": "stream",
          "name": "stdout",
          "text": [
            "                 Open       High        Low      Close  Adj Close    Volume\n",
            "Date                                                                       \n",
            "2024-02-09  42.139999  42.330002  41.299999  41.299999  41.299999  30388000\n",
            "2024-02-14  41.099998  41.400002  40.860001  40.990002  40.990002  18315300\n",
            "2024-02-15  41.009998  42.299999  40.849998  42.299999  42.299999  33246400\n",
            "2024-02-16  42.090000  42.889999  42.060001  42.689999  42.689999  37268900\n",
            "2024-02-19  42.759998  42.939999  42.560001  42.900002  42.900002  12826700\n"
          ]
        }
      ]
    },
    {
      "cell_type": "code",
      "source": [
        "# Printing the name of my columns\n",
        "print(petr4.columns)\n",
        "\n",
        "# Printing two of my columns by the name\n",
        "print(petr4[['Open', 'Adj Close']].tail(5))"
      ],
      "metadata": {
        "id": "riBMjmRT6xQ_",
        "colab": {
          "base_uri": "https://localhost:8080/"
        },
        "outputId": "b495c165-7413-457a-d9e9-a986e268dafe"
      },
      "execution_count": null,
      "outputs": [
        {
          "output_type": "stream",
          "name": "stdout",
          "text": [
            "Index(['Open', 'High', 'Low', 'Close', 'Adj Close', 'Volume'], dtype='object')\n",
            "                 Open  Adj Close\n",
            "Date                            \n",
            "2024-02-09  42.139999  41.299999\n",
            "2024-02-14  41.099998  40.990002\n",
            "2024-02-15  41.009998  42.299999\n",
            "2024-02-16  42.090000  42.689999\n",
            "2024-02-19  42.759998  42.900002\n"
          ]
        }
      ]
    },
    {
      "cell_type": "code",
      "source": [
        "x_datas = petr4.index\n",
        "y_datas_1 = tf.constant(petr4['Open'])\n",
        "y_datas_2 = tf.constant(petr4['Close'])\n",
        "\n",
        "x_datas[:5], y_datas_1[:5], y_datas_2[:5]"
      ],
      "metadata": {
        "colab": {
          "base_uri": "https://localhost:8080/"
        },
        "id": "RMBnCo2yObug",
        "outputId": "917b6857-d49b-4bb4-e15c-3cbbc782635e"
      },
      "execution_count": null,
      "outputs": [
        {
          "output_type": "execute_result",
          "data": {
            "text/plain": [
              "(DatetimeIndex(['2023-02-27', '2023-02-28', '2023-03-01', '2023-03-02',\n",
              "                '2023-03-03'],\n",
              "               dtype='datetime64[ns]', name='Date', freq=None),\n",
              " <tf.Tensor: shape=(5,), dtype=float64, numpy=array([25.84000015, 26.20999908, 25.30999947, 25.42000008, 24.82999992])>,\n",
              " <tf.Tensor: shape=(5,), dtype=float64, numpy=array([26.14999962, 25.23999977, 25.29999924, 24.63999939, 25.70000076])>)"
            ]
          },
          "metadata": {},
          "execution_count": 33
        }
      ]
    },
    {
      "cell_type": "code",
      "source": [
        "# Visualization\n",
        "\n",
        "plt.figure(figsize=(10,7))\n",
        "\n",
        "plt.plot(x_datas, y_datas_1, c='r', label='Open')\n",
        "plt.plot(x_datas, y_datas_2, c='g', label='Close')\n",
        "\n",
        "\n",
        "plt.title('Petr4')\n",
        "plt.legend()\n",
        "plt.show()\n"
      ],
      "metadata": {
        "colab": {
          "base_uri": "https://localhost:8080/",
          "height": 622
        },
        "id": "tvuFwuhqSfqE",
        "outputId": "d9a2f3a1-cabc-4779-c054-e65a1b819cf8"
      },
      "execution_count": null,
      "outputs": [
        {
          "output_type": "display_data",
          "data": {
            "text/plain": [
              "<Figure size 1000x700 with 1 Axes>"
            ],
            "image/png": "[encoded data removed]"
          },
          "metadata": {}
        }
      ]
    },
    {
      "cell_type": "markdown",
      "source": [
        "## Creating the Training and Testing and normalizing the data\n"
      ],
      "metadata": {
        "id": "lk7PnqUgBbxO"
      }
    },
    {
      "cell_type": "code",
      "source": [
        "# Creating the gain or loss column\n",
        "\n",
        "petr4['Gain/Loss'] = tf.where(petr4['Close'] > petr4['Open'], 1,0)\n",
        "\n",
        "print(petr4.tail(15))\n"
      ],
      "metadata": {
        "colab": {
          "base_uri": "https://localhost:8080/"
        },
        "id": "3Rml6dkdAclL",
        "outputId": "b4968fb3-b4a2-4fdf-bab6-1014e4fa1a72"
      },
      "execution_count": null,
      "outputs": [
        {
          "output_type": "stream",
          "name": "stdout",
          "text": [
            "                 Open       High        Low      Close  Adj Close    Volume  \\\n",
            "Date                                                                          \n",
            "2024-01-26  39.099998  40.090000  38.910000  39.959999  39.959999  41378200   \n",
            "2024-01-29  40.000000  40.590000  39.830002  40.570000  40.570000  30547500   \n",
            "2024-01-30  40.169998  40.740002  40.049999  40.320000  40.320000  34829000   \n",
            "2024-01-31  40.230000  41.240002  40.180000  40.759998  40.759998  57978900   \n",
            "2024-02-01  40.779999  41.880001  40.669998  41.570000  41.570000  61629200   \n",
            "2024-02-02  41.580002  41.779999  41.020000  41.029999  41.029999  36485600   \n",
            "2024-02-05  41.009998  41.680000  40.930000  41.209999  41.209999  27703000   \n",
            "2024-02-06  41.450001  42.349998  41.270000  41.590000  41.590000  35474600   \n",
            "2024-02-07  41.520000  42.200001  41.419998  42.200001  42.200001  30648100   \n",
            "2024-02-08  42.299999  42.450001  41.860001  41.860001  41.860001  25589100   \n",
            "2024-02-09  42.139999  42.330002  41.299999  41.299999  41.299999  30388000   \n",
            "2024-02-14  41.099998  41.400002  40.860001  40.990002  40.990002  18315300   \n",
            "2024-02-15  41.009998  42.299999  40.849998  42.299999  42.299999  33246400   \n",
            "2024-02-16  42.090000  42.889999  42.060001  42.689999  42.689999  37268900   \n",
            "2024-02-19  42.759998  42.939999  42.560001  42.900002  42.900002  12826700   \n",
            "\n",
            "            Gain/Loss  \n",
            "Date                   \n",
            "2024-01-26          1  \n",
            "2024-01-29          1  \n",
            "2024-01-30          1  \n",
            "2024-01-31          1  \n",
            "2024-02-01          1  \n",
            "2024-02-02          0  \n",
            "2024-02-05          1  \n",
            "2024-02-06          1  \n",
            "2024-02-07          1  \n",
            "2024-02-08          0  \n",
            "2024-02-09          0  \n",
            "2024-02-14          0  \n",
            "2024-02-15          1  \n",
            "2024-02-16          1  \n",
            "2024-02-19          1  \n"
          ]
        }
      ]
    },
    {
      "cell_type": "code",
      "source": [
        "# Creating Features and Labels\n",
        "\n",
        "X = petr4[['Open', 'Close', 'High', 'Low', 'Adj Close', 'Volume']]\n",
        "y = petr4['Gain/Loss']\n",
        "\n",
        "print(X.tail(15))\n",
        "print(y.tail(15) == petr4['Gain/Loss'].tail(15))"
      ],
      "metadata": {
        "colab": {
          "base_uri": "https://localhost:8080/"
        },
        "id": "ZheU6SkWDZB4",
        "outputId": "d0f515a1-24b5-48c6-e02d-333f4968c5dc"
      },
      "execution_count": null,
      "outputs": [
        {
          "output_type": "stream",
          "name": "stdout",
          "text": [
            "                 Open      Close       High        Low  Adj Close    Volume\n",
            "Date                                                                       \n",
            "2024-01-26  39.099998  39.959999  40.090000  38.910000  39.959999  41378200\n",
            "2024-01-29  40.000000  40.570000  40.590000  39.830002  40.570000  30547500\n",
            "2024-01-30  40.169998  40.320000  40.740002  40.049999  40.320000  34829000\n",
            "2024-01-31  40.230000  40.759998  41.240002  40.180000  40.759998  57978900\n",
            "2024-02-01  40.779999  41.570000  41.880001  40.669998  41.570000  61629200\n",
            "2024-02-02  41.580002  41.029999  41.779999  41.020000  41.029999  36485600\n",
            "2024-02-05  41.009998  41.209999  41.680000  40.930000  41.209999  27703000\n",
            "2024-02-06  41.450001  41.590000  42.349998  41.270000  41.590000  35474600\n",
            "2024-02-07  41.520000  42.200001  42.200001  41.419998  42.200001  30648100\n",
            "2024-02-08  42.299999  41.860001  42.450001  41.860001  41.860001  25589100\n",
            "2024-02-09  42.139999  41.299999  42.330002  41.299999  41.299999  30388000\n",
            "2024-02-14  41.099998  40.990002  41.400002  40.860001  40.990002  18315300\n",
            "2024-02-15  41.009998  42.299999  42.299999  40.849998  42.299999  33246400\n",
            "2024-02-16  42.090000  42.689999  42.889999  42.060001  42.689999  37268900\n",
            "2024-02-19  42.759998  42.900002  42.939999  42.560001  42.900002  12826700\n",
            "Date\n",
            "2024-01-26    True\n",
            "2024-01-29    True\n",
            "2024-01-30    True\n",
            "2024-01-31    True\n",
            "2024-02-01    True\n",
            "2024-02-02    True\n",
            "2024-02-05    True\n",
            "2024-02-06    True\n",
            "2024-02-07    True\n",
            "2024-02-08    True\n",
            "2024-02-09    True\n",
            "2024-02-14    True\n",
            "2024-02-15    True\n",
            "2024-02-16    True\n",
            "2024-02-19    True\n",
            "Name: Gain/Loss, dtype: bool\n"
          ]
        }
      ]
    },
    {
      "cell_type": "code",
      "source": [
        "X.shape, y.shape"
      ],
      "metadata": {
        "colab": {
          "base_uri": "https://localhost:8080/"
        },
        "id": "fww5rYH0PG2Z",
        "outputId": "7b59ff2c-9eae-40e2-b1ee-3e36ecb641f0"
      },
      "execution_count": null,
      "outputs": [
        {
          "output_type": "execute_result",
          "data": {
            "text/plain": [
              "((243, 6), (243,))"
            ]
          },
          "metadata": {},
          "execution_count": 37
        }
      ]
    },
    {
      "cell_type": "code",
      "source": [
        "# I don't normalize \"y\" because it's binary\n",
        "X = tf.keras.utils.normalize(X)\n"
      ],
      "metadata": {
        "id": "snOtFpvZ0Gx3"
      },
      "execution_count": null,
      "outputs": []
    },
    {
      "cell_type": "code",
      "source": [
        "X.shape"
      ],
      "metadata": {
        "colab": {
          "base_uri": "https://localhost:8080/"
        },
        "id": "0eR2Dl9G0jjH",
        "outputId": "0e7f2a31-ae31-4021-ec9c-637048b8c3e1"
      },
      "execution_count": null,
      "outputs": [
        {
          "output_type": "execute_result",
          "data": {
            "text/plain": [
              "(243, 6)"
            ]
          },
          "metadata": {},
          "execution_count": 39
        }
      ]
    },
    {
      "cell_type": "code",
      "source": [
        "# I'm excluding the first line in the variable \"y\" and the last line of variable \"X\"\n",
        "\n",
        "X = X.iloc[:-1]\n",
        "y = y.iloc[1:]\n",
        "\n",
        "# This line is important because the goal is to predict the next day"
      ],
      "metadata": {
        "id": "WT5nhKneSsjo"
      },
      "execution_count": null,
      "outputs": []
    },
    {
      "cell_type": "code",
      "source": [
        "#comparing results\n",
        "X.tail(5), petr4.tail(5), y.head(10), petr4['Gain/Loss'].head(10)"
      ],
      "metadata": {
        "colab": {
          "base_uri": "https://localhost:8080/"
        },
        "id": "-kFpVyIMVX_C",
        "outputId": "7c0bf9bf-63dd-4b9e-d23e-1506270980f1"
      },
      "execution_count": null,
      "outputs": [
        {
          "output_type": "execute_result",
          "data": {
            "text/plain": [
              "(                Open     Close      High       Low  Adj Close  Volume\n",
              " Date                                                                 \n",
              " 2024-02-08  0.000002  0.000002  0.000002  0.000002   0.000002     1.0\n",
              " 2024-02-09  0.000001  0.000001  0.000001  0.000001   0.000001     1.0\n",
              " 2024-02-14  0.000002  0.000002  0.000002  0.000002   0.000002     1.0\n",
              " 2024-02-15  0.000001  0.000001  0.000001  0.000001   0.000001     1.0\n",
              " 2024-02-16  0.000001  0.000001  0.000001  0.000001   0.000001     1.0,\n",
              "                  Open       High        Low      Close  Adj Close    Volume  \\\n",
              " Date                                                                          \n",
              " 2024-02-09  42.139999  42.330002  41.299999  41.299999  41.299999  30388000   \n",
              " 2024-02-14  41.099998  41.400002  40.860001  40.990002  40.990002  18315300   \n",
              " 2024-02-15  41.009998  42.299999  40.849998  42.299999  42.299999  33246400   \n",
              " 2024-02-16  42.090000  42.889999  42.060001  42.689999  42.689999  37268900   \n",
              " 2024-02-19  42.759998  42.939999  42.560001  42.900002  42.900002  12826700   \n",
              " \n",
              "             Gain/Loss  \n",
              " Date                   \n",
              " 2024-02-09          0  \n",
              " 2024-02-14          0  \n",
              " 2024-02-15          1  \n",
              " 2024-02-16          1  \n",
              " 2024-02-19          1  ,\n",
              " Date\n",
              " 2023-02-28    0\n",
              " 2023-03-01    0\n",
              " 2023-03-02    0\n",
              " 2023-03-03    1\n",
              " 2023-03-06    1\n",
              " 2023-03-07    0\n",
              " 2023-03-08    1\n",
              " 2023-03-09    0\n",
              " 2023-03-10    0\n",
              " 2023-03-13    0\n",
              " Name: Gain/Loss, dtype: int32,\n",
              " Date\n",
              " 2023-02-27    1\n",
              " 2023-02-28    0\n",
              " 2023-03-01    0\n",
              " 2023-03-02    0\n",
              " 2023-03-03    1\n",
              " 2023-03-06    1\n",
              " 2023-03-07    0\n",
              " 2023-03-08    1\n",
              " 2023-03-09    0\n",
              " 2023-03-10    0\n",
              " Name: Gain/Loss, dtype: int32)"
            ]
          },
          "metadata": {},
          "execution_count": 41
        }
      ]
    },
    {
      "cell_type": "code",
      "source": [
        "# Separete train and test\n",
        "X_train, X_test, y_train, y_test = train_test_split(X, y, test_size=0.2, random_state=42)\n",
        "\n",
        "X_train.shape, y_train.shape, X_test.shape, y_test.shape"
      ],
      "metadata": {
        "colab": {
          "base_uri": "https://localhost:8080/"
        },
        "id": "Fw-UbMkNWUN3",
        "outputId": "64ba4242-17df-4729-d045-ba6cbfe9ac39"
      },
      "execution_count": null,
      "outputs": [
        {
          "output_type": "execute_result",
          "data": {
            "text/plain": [
              "((193, 6), (193,), (49, 6), (49,))"
            ]
          },
          "metadata": {},
          "execution_count": 42
        }
      ]
    },
    {
      "cell_type": "markdown",
      "source": [
        "## Making the model"
      ],
      "metadata": {
        "id": "KsrstvIQqIua"
      }
    },
    {
      "cell_type": "code",
      "source": [
        "# Defining the model\n",
        "model = tf.keras.Sequential([\n",
        "    tf.keras.layers.Dense(64, activation=\"relu\", input_shape=(6,)), # In the input_shape I could use (X.shape[1],)\n",
        "    tf.keras.layers.Dropout(0.2), # 20% Dropout\n",
        "    tf.keras.layers.Dense(32, activation=\"relu\"),\n",
        "    tf.keras.layers.Dense(8, activation=\"relu\"),\n",
        "    tf.keras.layers.Dense(1)\n",
        "])\n",
        "\n",
        "# Compiling the model\n",
        "model.compile(optimizer=tf.keras.optimizers.Adam(learning_rate=0.0001),\n",
        "              loss='binary_crossentropy',\n",
        "              metrics=['accuracy'])\n",
        "\n",
        "# Training the model\n",
        "history = model.fit(X_train, y_train, epochs=140, batch_size=32, validation_data=(X_test, y_test))\n",
        "\n",
        "# Evaluate the model\n",
        "loss, accuracy = model.evaluate(X_test, y_test)\n",
        "print(\"Loss: \", loss)\n",
        "print(\"Acurracy: \", accuracy)"
      ],
      "metadata": {
        "colab": {
          "base_uri": "https://localhost:8080/"
        },
        "id": "hustwZ-PqLZs",
        "outputId": "5b698b2c-f3c0-4cae-c0ba-12f4b212f598"
      },
      "execution_count": null,
      "outputs": [
        {
          "output_type": "stream",
          "name": "stdout",
          "text": [
            "Epoch 1/140\n",
            "7/7 [==============================] - 1s 38ms/step - loss: 5.4074 - accuracy: 0.4767 - val_loss: 9.7586 - val_accuracy: 0.3673\n",
            "Epoch 2/140\n",
            "7/7 [==============================] - 0s 7ms/step - loss: 5.0134 - accuracy: 0.4767 - val_loss: 3.9269 - val_accuracy: 0.3673\n",
            "Epoch 3/140\n",
            "7/7 [==============================] - 0s 10ms/step - loss: 4.9375 - accuracy: 0.4767 - val_loss: 2.8647 - val_accuracy: 0.3673\n",
            "Epoch 4/140\n",
            "7/7 [==============================] - 0s 7ms/step - loss: 4.6950 - accuracy: 0.4767 - val_loss: 2.5179 - val_accuracy: 0.3673\n",
            "Epoch 5/140\n",
            "7/7 [==============================] - 0s 10ms/step - loss: 4.0877 - accuracy: 0.4767 - val_loss: 2.3963 - val_accuracy: 0.3673\n",
            "Epoch 6/140\n",
            "7/7 [==============================] - 0s 11ms/step - loss: 3.5468 - accuracy: 0.4767 - val_loss: 2.3289 - val_accuracy: 0.3673\n",
            "Epoch 7/140\n",
            "7/7 [==============================] - 0s 8ms/step - loss: 3.3663 - accuracy: 0.4767 - val_loss: 2.2190 - val_accuracy: 0.3673\n",
            "Epoch 8/140\n",
            "7/7 [==============================] - 0s 7ms/step - loss: 3.1645 - accuracy: 0.4767 - val_loss: 2.1322 - val_accuracy: 0.3673\n",
            "Epoch 9/140\n",
            "7/7 [==============================] - 0s 11ms/step - loss: 3.0098 - accuracy: 0.4767 - val_loss: 2.0781 - val_accuracy: 0.3673\n",
            "Epoch 10/140\n",
            "7/7 [==============================] - 0s 9ms/step - loss: 2.7080 - accuracy: 0.4767 - val_loss: 2.0435 - val_accuracy: 0.3673\n",
            "Epoch 11/140\n",
            "7/7 [==============================] - 0s 9ms/step - loss: 2.6582 - accuracy: 0.4767 - val_loss: 2.0079 - val_accuracy: 0.3673\n",
            "Epoch 12/140\n",
            "7/7 [==============================] - 0s 8ms/step - loss: 2.8382 - accuracy: 0.4767 - val_loss: 1.9768 - val_accuracy: 0.3673\n",
            "Epoch 13/140\n",
            "7/7 [==============================] - 0s 8ms/step - loss: 2.1844 - accuracy: 0.4767 - val_loss: 1.9457 - val_accuracy: 0.3673\n",
            "Epoch 14/140\n",
            "7/7 [==============================] - 0s 10ms/step - loss: 2.1420 - accuracy: 0.4767 - val_loss: 1.9169 - val_accuracy: 0.3673\n",
            "Epoch 15/140\n",
            "7/7 [==============================] - 0s 8ms/step - loss: 1.8983 - accuracy: 0.4767 - val_loss: 1.8956 - val_accuracy: 0.3673\n",
            "Epoch 16/140\n",
            "7/7 [==============================] - 0s 11ms/step - loss: 1.8321 - accuracy: 0.4767 - val_loss: 1.8754 - val_accuracy: 0.3673\n",
            "Epoch 17/140\n",
            "7/7 [==============================] - 0s 11ms/step - loss: 1.7861 - accuracy: 0.4767 - val_loss: 1.8556 - val_accuracy: 0.3673\n",
            "Epoch 18/140\n",
            "7/7 [==============================] - 0s 8ms/step - loss: 1.9128 - accuracy: 0.4767 - val_loss: 1.8362 - val_accuracy: 0.3673\n",
            "Epoch 19/140\n",
            "7/7 [==============================] - 0s 8ms/step - loss: 2.2256 - accuracy: 0.4767 - val_loss: 1.8162 - val_accuracy: 0.3673\n",
            "Epoch 20/140\n",
            "7/7 [==============================] - 0s 10ms/step - loss: 1.8174 - accuracy: 0.4767 - val_loss: 1.8001 - val_accuracy: 0.3673\n",
            "Epoch 21/140\n",
            "7/7 [==============================] - 0s 12ms/step - loss: 1.6468 - accuracy: 0.4767 - val_loss: 1.7849 - val_accuracy: 0.3673\n",
            "Epoch 22/140\n",
            "7/7 [==============================] - 0s 8ms/step - loss: 1.8090 - accuracy: 0.4767 - val_loss: 1.7687 - val_accuracy: 0.3673\n",
            "Epoch 23/140\n",
            "7/7 [==============================] - 0s 8ms/step - loss: 1.8565 - accuracy: 0.4767 - val_loss: 1.7552 - val_accuracy: 0.3673\n",
            "Epoch 24/140\n",
            "7/7 [==============================] - 0s 8ms/step - loss: 1.8006 - accuracy: 0.4767 - val_loss: 1.7378 - val_accuracy: 0.3673\n",
            "Epoch 25/140\n",
            "7/7 [==============================] - 0s 9ms/step - loss: 1.6410 - accuracy: 0.4767 - val_loss: 1.7169 - val_accuracy: 0.3673\n",
            "Epoch 26/140\n",
            "7/7 [==============================] - 0s 8ms/step - loss: 1.5907 - accuracy: 0.4767 - val_loss: 1.6991 - val_accuracy: 0.3673\n",
            "Epoch 27/140\n",
            "7/7 [==============================] - 0s 7ms/step - loss: 1.4472 - accuracy: 0.4767 - val_loss: 1.6815 - val_accuracy: 0.3673\n",
            "Epoch 28/140\n",
            "7/7 [==============================] - 0s 8ms/step - loss: 1.4247 - accuracy: 0.4767 - val_loss: 1.6679 - val_accuracy: 0.3673\n",
            "Epoch 29/140\n",
            "7/7 [==============================] - 0s 8ms/step - loss: 1.6221 - accuracy: 0.4767 - val_loss: 1.6551 - val_accuracy: 0.3673\n",
            "Epoch 30/140\n",
            "7/7 [==============================] - 0s 11ms/step - loss: 1.4559 - accuracy: 0.4767 - val_loss: 1.6412 - val_accuracy: 0.3673\n",
            "Epoch 31/140\n",
            "7/7 [==============================] - 0s 10ms/step - loss: 1.5141 - accuracy: 0.4767 - val_loss: 1.6174 - val_accuracy: 0.3673\n",
            "Epoch 32/140\n",
            "7/7 [==============================] - 0s 8ms/step - loss: 1.4680 - accuracy: 0.4767 - val_loss: 1.6009 - val_accuracy: 0.3673\n",
            "Epoch 33/140\n",
            "7/7 [==============================] - 0s 9ms/step - loss: 1.3726 - accuracy: 0.4767 - val_loss: 1.5838 - val_accuracy: 0.3673\n",
            "Epoch 34/140\n",
            "7/7 [==============================] - 0s 10ms/step - loss: 1.4286 - accuracy: 0.4767 - val_loss: 1.5697 - val_accuracy: 0.3673\n",
            "Epoch 35/140\n",
            "7/7 [==============================] - 0s 8ms/step - loss: 1.3340 - accuracy: 0.4767 - val_loss: 1.5572 - val_accuracy: 0.3673\n",
            "Epoch 36/140\n",
            "7/7 [==============================] - 0s 10ms/step - loss: 1.3858 - accuracy: 0.4767 - val_loss: 1.5465 - val_accuracy: 0.3673\n",
            "Epoch 37/140\n",
            "7/7 [==============================] - 0s 8ms/step - loss: 1.3062 - accuracy: 0.4767 - val_loss: 1.5360 - val_accuracy: 0.3673\n",
            "Epoch 38/140\n",
            "7/7 [==============================] - 0s 11ms/step - loss: 1.3503 - accuracy: 0.4767 - val_loss: 1.5252 - val_accuracy: 0.3673\n",
            "Epoch 39/140\n",
            "7/7 [==============================] - 0s 8ms/step - loss: 1.3107 - accuracy: 0.4767 - val_loss: 1.5137 - val_accuracy: 0.3673\n",
            "Epoch 40/140\n",
            "7/7 [==============================] - 0s 10ms/step - loss: 1.4000 - accuracy: 0.4767 - val_loss: 1.5027 - val_accuracy: 0.3673\n",
            "Epoch 41/140\n",
            "7/7 [==============================] - 0s 10ms/step - loss: 1.2908 - accuracy: 0.4767 - val_loss: 1.4922 - val_accuracy: 0.3673\n",
            "Epoch 42/140\n",
            "7/7 [==============================] - 0s 11ms/step - loss: 1.3009 - accuracy: 0.4767 - val_loss: 1.4819 - val_accuracy: 0.3673\n",
            "Epoch 43/140\n",
            "7/7 [==============================] - 0s 8ms/step - loss: 1.2900 - accuracy: 0.4767 - val_loss: 1.4725 - val_accuracy: 0.3673\n",
            "Epoch 44/140\n",
            "7/7 [==============================] - 0s 10ms/step - loss: 1.2615 - accuracy: 0.4767 - val_loss: 1.4644 - val_accuracy: 0.3673\n",
            "Epoch 45/140\n",
            "7/7 [==============================] - 0s 8ms/step - loss: 1.3185 - accuracy: 0.4767 - val_loss: 1.4529 - val_accuracy: 0.3673\n",
            "Epoch 46/140\n",
            "7/7 [==============================] - 0s 8ms/step - loss: 1.2454 - accuracy: 0.4767 - val_loss: 1.4429 - val_accuracy: 0.3673\n",
            "Epoch 47/140\n",
            "7/7 [==============================] - 0s 9ms/step - loss: 1.2179 - accuracy: 0.4767 - val_loss: 1.4335 - val_accuracy: 0.3673\n",
            "Epoch 48/140\n",
            "7/7 [==============================] - 0s 8ms/step - loss: 1.2711 - accuracy: 0.4767 - val_loss: 1.4258 - val_accuracy: 0.3673\n",
            "Epoch 49/140\n",
            "7/7 [==============================] - 0s 8ms/step - loss: 1.3707 - accuracy: 0.4767 - val_loss: 1.4186 - val_accuracy: 0.3673\n",
            "Epoch 50/140\n",
            "7/7 [==============================] - 0s 8ms/step - loss: 1.2348 - accuracy: 0.4767 - val_loss: 1.4120 - val_accuracy: 0.3673\n",
            "Epoch 51/140\n",
            "7/7 [==============================] - 0s 8ms/step - loss: 1.3216 - accuracy: 0.4767 - val_loss: 1.4044 - val_accuracy: 0.3673\n",
            "Epoch 52/140\n",
            "7/7 [==============================] - 0s 8ms/step - loss: 1.2444 - accuracy: 0.4767 - val_loss: 1.3958 - val_accuracy: 0.3673\n",
            "Epoch 53/140\n",
            "7/7 [==============================] - 0s 8ms/step - loss: 1.1867 - accuracy: 0.4767 - val_loss: 1.3870 - val_accuracy: 0.3673\n",
            "Epoch 54/140\n",
            "7/7 [==============================] - 0s 10ms/step - loss: 1.1860 - accuracy: 0.4767 - val_loss: 1.3789 - val_accuracy: 0.3673\n",
            "Epoch 55/140\n",
            "7/7 [==============================] - 0s 10ms/step - loss: 1.2231 - accuracy: 0.4767 - val_loss: 1.3706 - val_accuracy: 0.3673\n",
            "Epoch 56/140\n",
            "7/7 [==============================] - 0s 12ms/step - loss: 1.1948 - accuracy: 0.4767 - val_loss: 1.3628 - val_accuracy: 0.3673\n",
            "Epoch 57/140\n",
            "7/7 [==============================] - 0s 10ms/step - loss: 1.1690 - accuracy: 0.4767 - val_loss: 1.3556 - val_accuracy: 0.3673\n",
            "Epoch 58/140\n",
            "7/7 [==============================] - 0s 10ms/step - loss: 1.1900 - accuracy: 0.4767 - val_loss: 1.3493 - val_accuracy: 0.3673\n",
            "Epoch 59/140\n",
            "7/7 [==============================] - 0s 10ms/step - loss: 1.1768 - accuracy: 0.4767 - val_loss: 1.3436 - val_accuracy: 0.3673\n",
            "Epoch 60/140\n",
            "7/7 [==============================] - 0s 10ms/step - loss: 1.2515 - accuracy: 0.4767 - val_loss: 1.3380 - val_accuracy: 0.3673\n",
            "Epoch 61/140\n",
            "7/7 [==============================] - 0s 8ms/step - loss: 1.1859 - accuracy: 0.4767 - val_loss: 1.3327 - val_accuracy: 0.3673\n",
            "Epoch 62/140\n",
            "7/7 [==============================] - 0s 11ms/step - loss: 1.1962 - accuracy: 0.4767 - val_loss: 1.3272 - val_accuracy: 0.3673\n",
            "Epoch 63/140\n",
            "7/7 [==============================] - 0s 8ms/step - loss: 1.1666 - accuracy: 0.4767 - val_loss: 1.3216 - val_accuracy: 0.3673\n",
            "Epoch 64/140\n",
            "7/7 [==============================] - 0s 8ms/step - loss: 1.1802 - accuracy: 0.4767 - val_loss: 1.3159 - val_accuracy: 0.3673\n",
            "Epoch 65/140\n",
            "7/7 [==============================] - 0s 10ms/step - loss: 1.2404 - accuracy: 0.4767 - val_loss: 1.3081 - val_accuracy: 0.3673\n",
            "Epoch 66/140\n",
            "7/7 [==============================] - 0s 11ms/step - loss: 1.1666 - accuracy: 0.4767 - val_loss: 1.3014 - val_accuracy: 0.3673\n",
            "Epoch 67/140\n",
            "7/7 [==============================] - 0s 8ms/step - loss: 1.1094 - accuracy: 0.4767 - val_loss: 1.2957 - val_accuracy: 0.3673\n",
            "Epoch 68/140\n",
            "7/7 [==============================] - 0s 9ms/step - loss: 1.1690 - accuracy: 0.4767 - val_loss: 1.2886 - val_accuracy: 0.3673\n",
            "Epoch 69/140\n",
            "7/7 [==============================] - 0s 8ms/step - loss: 1.1389 - accuracy: 0.4767 - val_loss: 1.2814 - val_accuracy: 0.3673\n",
            "Epoch 70/140\n",
            "7/7 [==============================] - 0s 8ms/step - loss: 1.1530 - accuracy: 0.4767 - val_loss: 1.2726 - val_accuracy: 0.3673\n",
            "Epoch 71/140\n",
            "7/7 [==============================] - 0s 9ms/step - loss: 1.1306 - accuracy: 0.4767 - val_loss: 1.2639 - val_accuracy: 0.3673\n",
            "Epoch 72/140\n",
            "7/7 [==============================] - 0s 8ms/step - loss: 1.1129 - accuracy: 0.4767 - val_loss: 1.2564 - val_accuracy: 0.3673\n",
            "Epoch 73/140\n",
            "7/7 [==============================] - 0s 10ms/step - loss: 1.1267 - accuracy: 0.4767 - val_loss: 1.2494 - val_accuracy: 0.3673\n",
            "Epoch 74/140\n",
            "7/7 [==============================] - 0s 7ms/step - loss: 1.1155 - accuracy: 0.4767 - val_loss: 1.2429 - val_accuracy: 0.3673\n",
            "Epoch 75/140\n",
            "7/7 [==============================] - 0s 11ms/step - loss: 1.0959 - accuracy: 0.4767 - val_loss: 1.2377 - val_accuracy: 0.3673\n",
            "Epoch 76/140\n",
            "7/7 [==============================] - 0s 10ms/step - loss: 1.1198 - accuracy: 0.4767 - val_loss: 1.2330 - val_accuracy: 0.3673\n",
            "Epoch 77/140\n",
            "7/7 [==============================] - 0s 10ms/step - loss: 1.0672 - accuracy: 0.4767 - val_loss: 1.2281 - val_accuracy: 0.3673\n",
            "Epoch 78/140\n",
            "7/7 [==============================] - 0s 10ms/step - loss: 1.0848 - accuracy: 0.4767 - val_loss: 1.2236 - val_accuracy: 0.3673\n",
            "Epoch 79/140\n",
            "7/7 [==============================] - 0s 7ms/step - loss: 1.0782 - accuracy: 0.4767 - val_loss: 1.2187 - val_accuracy: 0.3673\n",
            "Epoch 80/140\n",
            "7/7 [==============================] - 0s 13ms/step - loss: 1.0669 - accuracy: 0.4767 - val_loss: 1.2136 - val_accuracy: 0.3673\n",
            "Epoch 81/140\n",
            "7/7 [==============================] - 0s 13ms/step - loss: 1.0732 - accuracy: 0.4767 - val_loss: 1.2092 - val_accuracy: 0.3673\n",
            "Epoch 82/140\n",
            "7/7 [==============================] - 0s 13ms/step - loss: 1.0965 - accuracy: 0.4767 - val_loss: 1.2037 - val_accuracy: 0.3673\n",
            "Epoch 83/140\n",
            "7/7 [==============================] - 0s 14ms/step - loss: 1.0943 - accuracy: 0.4767 - val_loss: 1.1980 - val_accuracy: 0.3673\n",
            "Epoch 84/140\n",
            "7/7 [==============================] - 0s 13ms/step - loss: 1.0891 - accuracy: 0.4767 - val_loss: 1.1909 - val_accuracy: 0.3673\n",
            "Epoch 85/140\n",
            "7/7 [==============================] - 0s 18ms/step - loss: 1.0480 - accuracy: 0.4767 - val_loss: 1.1840 - val_accuracy: 0.3673\n",
            "Epoch 86/140\n",
            "7/7 [==============================] - 0s 14ms/step - loss: 1.0332 - accuracy: 0.4767 - val_loss: 1.1780 - val_accuracy: 0.3673\n",
            "Epoch 87/140\n",
            "7/7 [==============================] - 0s 15ms/step - loss: 1.0438 - accuracy: 0.4767 - val_loss: 1.1731 - val_accuracy: 0.3673\n",
            "Epoch 88/140\n",
            "7/7 [==============================] - 0s 10ms/step - loss: 1.0407 - accuracy: 0.4767 - val_loss: 1.1681 - val_accuracy: 0.3673\n",
            "Epoch 89/140\n",
            "7/7 [==============================] - 0s 14ms/step - loss: 1.0208 - accuracy: 0.4767 - val_loss: 1.1640 - val_accuracy: 0.3673\n",
            "Epoch 90/140\n",
            "7/7 [==============================] - 0s 10ms/step - loss: 1.0294 - accuracy: 0.4767 - val_loss: 1.1602 - val_accuracy: 0.3673\n",
            "Epoch 91/140\n",
            "7/7 [==============================] - 0s 14ms/step - loss: 1.0585 - accuracy: 0.4767 - val_loss: 1.1563 - val_accuracy: 0.3673\n",
            "Epoch 92/140\n",
            "7/7 [==============================] - 0s 13ms/step - loss: 1.0031 - accuracy: 0.4767 - val_loss: 1.1522 - val_accuracy: 0.3673\n",
            "Epoch 93/140\n",
            "7/7 [==============================] - 0s 10ms/step - loss: 1.0176 - accuracy: 0.4767 - val_loss: 1.1484 - val_accuracy: 0.3673\n",
            "Epoch 94/140\n",
            "7/7 [==============================] - 0s 13ms/step - loss: 1.0267 - accuracy: 0.4767 - val_loss: 1.1438 - val_accuracy: 0.3673\n",
            "Epoch 95/140\n",
            "7/7 [==============================] - 0s 10ms/step - loss: 1.0062 - accuracy: 0.4767 - val_loss: 1.1386 - val_accuracy: 0.3673\n",
            "Epoch 96/140\n",
            "7/7 [==============================] - 0s 11ms/step - loss: 1.0052 - accuracy: 0.4767 - val_loss: 1.1343 - val_accuracy: 0.3673\n",
            "Epoch 97/140\n",
            "7/7 [==============================] - 0s 19ms/step - loss: 1.0076 - accuracy: 0.4767 - val_loss: 1.1296 - val_accuracy: 0.3673\n",
            "Epoch 98/140\n",
            "7/7 [==============================] - 0s 13ms/step - loss: 1.0305 - accuracy: 0.4767 - val_loss: 1.1243 - val_accuracy: 0.3673\n",
            "Epoch 99/140\n",
            "7/7 [==============================] - 0s 14ms/step - loss: 1.0339 - accuracy: 0.4767 - val_loss: 1.1189 - val_accuracy: 0.3673\n",
            "Epoch 100/140\n",
            "7/7 [==============================] - 0s 14ms/step - loss: 1.0073 - accuracy: 0.4767 - val_loss: 1.1147 - val_accuracy: 0.3673\n",
            "Epoch 101/140\n",
            "7/7 [==============================] - 0s 11ms/step - loss: 0.9848 - accuracy: 0.4767 - val_loss: 1.1110 - val_accuracy: 0.3673\n",
            "Epoch 102/140\n",
            "7/7 [==============================] - 0s 13ms/step - loss: 0.9810 - accuracy: 0.4767 - val_loss: 1.1077 - val_accuracy: 0.3673\n",
            "Epoch 103/140\n",
            "7/7 [==============================] - 0s 12ms/step - loss: 0.9850 - accuracy: 0.4767 - val_loss: 1.1046 - val_accuracy: 0.3673\n",
            "Epoch 104/140\n",
            "7/7 [==============================] - 0s 15ms/step - loss: 0.9759 - accuracy: 0.4767 - val_loss: 1.1014 - val_accuracy: 0.3673\n",
            "Epoch 105/140\n",
            "7/7 [==============================] - 0s 15ms/step - loss: 0.9692 - accuracy: 0.4767 - val_loss: 1.0974 - val_accuracy: 0.3673\n",
            "Epoch 106/140\n",
            "7/7 [==============================] - 0s 14ms/step - loss: 0.9849 - accuracy: 0.4767 - val_loss: 1.0932 - val_accuracy: 0.3673\n",
            "Epoch 107/140\n",
            "7/7 [==============================] - 0s 13ms/step - loss: 0.9762 - accuracy: 0.4767 - val_loss: 1.0894 - val_accuracy: 0.3673\n",
            "Epoch 108/140\n",
            "7/7 [==============================] - 0s 14ms/step - loss: 0.9592 - accuracy: 0.4767 - val_loss: 1.0848 - val_accuracy: 0.3673\n",
            "Epoch 109/140\n",
            "7/7 [==============================] - 0s 15ms/step - loss: 1.0007 - accuracy: 0.4767 - val_loss: 1.0809 - val_accuracy: 0.3673\n",
            "Epoch 110/140\n",
            "7/7 [==============================] - 0s 7ms/step - loss: 0.9721 - accuracy: 0.4767 - val_loss: 1.0774 - val_accuracy: 0.3673\n",
            "Epoch 111/140\n",
            "7/7 [==============================] - 0s 8ms/step - loss: 0.9625 - accuracy: 0.4767 - val_loss: 1.0735 - val_accuracy: 0.3673\n",
            "Epoch 112/140\n",
            "7/7 [==============================] - 0s 8ms/step - loss: 0.9533 - accuracy: 0.4767 - val_loss: 1.0696 - val_accuracy: 0.3673\n",
            "Epoch 113/140\n",
            "7/7 [==============================] - 0s 10ms/step - loss: 0.9398 - accuracy: 0.4767 - val_loss: 1.0662 - val_accuracy: 0.3673\n",
            "Epoch 114/140\n",
            "7/7 [==============================] - 0s 10ms/step - loss: 0.9435 - accuracy: 0.4767 - val_loss: 1.0627 - val_accuracy: 0.3673\n",
            "Epoch 115/140\n",
            "7/7 [==============================] - 0s 8ms/step - loss: 0.9267 - accuracy: 0.4767 - val_loss: 1.0595 - val_accuracy: 0.3673\n",
            "Epoch 116/140\n",
            "7/7 [==============================] - 0s 7ms/step - loss: 0.9750 - accuracy: 0.4767 - val_loss: 1.0555 - val_accuracy: 0.3673\n",
            "Epoch 117/140\n",
            "7/7 [==============================] - 0s 10ms/step - loss: 0.9370 - accuracy: 0.4767 - val_loss: 1.0520 - val_accuracy: 0.3673\n",
            "Epoch 118/140\n",
            "7/7 [==============================] - 0s 10ms/step - loss: 0.9248 - accuracy: 0.4767 - val_loss: 1.0487 - val_accuracy: 0.3673\n",
            "Epoch 119/140\n",
            "7/7 [==============================] - 0s 7ms/step - loss: 0.9565 - accuracy: 0.4767 - val_loss: 1.0448 - val_accuracy: 0.3673\n",
            "Epoch 120/140\n",
            "7/7 [==============================] - 0s 7ms/step - loss: 0.9186 - accuracy: 0.4767 - val_loss: 1.0403 - val_accuracy: 0.3673\n",
            "Epoch 121/140\n",
            "7/7 [==============================] - 0s 9ms/step - loss: 0.9272 - accuracy: 0.4767 - val_loss: 1.0361 - val_accuracy: 0.3673\n",
            "Epoch 122/140\n",
            "7/7 [==============================] - 0s 10ms/step - loss: 0.9070 - accuracy: 0.4767 - val_loss: 1.0325 - val_accuracy: 0.3673\n",
            "Epoch 123/140\n",
            "7/7 [==============================] - 0s 10ms/step - loss: 0.9190 - accuracy: 0.4767 - val_loss: 1.0286 - val_accuracy: 0.3673\n",
            "Epoch 124/140\n",
            "7/7 [==============================] - 0s 10ms/step - loss: 0.9025 - accuracy: 0.4767 - val_loss: 1.0251 - val_accuracy: 0.3673\n",
            "Epoch 125/140\n",
            "7/7 [==============================] - 0s 7ms/step - loss: 0.8971 - accuracy: 0.4767 - val_loss: 1.0211 - val_accuracy: 0.3673\n",
            "Epoch 126/140\n",
            "7/7 [==============================] - 0s 7ms/step - loss: 0.9044 - accuracy: 0.4767 - val_loss: 1.0178 - val_accuracy: 0.3673\n",
            "Epoch 127/140\n",
            "7/7 [==============================] - 0s 8ms/step - loss: 0.9277 - accuracy: 0.4767 - val_loss: 1.0145 - val_accuracy: 0.3673\n",
            "Epoch 128/140\n",
            "7/7 [==============================] - 0s 10ms/step - loss: 0.9213 - accuracy: 0.4767 - val_loss: 1.0101 - val_accuracy: 0.3673\n",
            "Epoch 129/140\n",
            "7/7 [==============================] - 0s 10ms/step - loss: 0.8995 - accuracy: 0.4767 - val_loss: 1.0046 - val_accuracy: 0.3673\n",
            "Epoch 130/140\n",
            "7/7 [==============================] - 0s 8ms/step - loss: 0.9201 - accuracy: 0.4767 - val_loss: 0.9989 - val_accuracy: 0.3673\n",
            "Epoch 131/140\n",
            "7/7 [==============================] - 0s 7ms/step - loss: 0.8720 - accuracy: 0.4767 - val_loss: 0.9925 - val_accuracy: 0.3673\n",
            "Epoch 132/140\n",
            "7/7 [==============================] - 0s 10ms/step - loss: 0.8894 - accuracy: 0.4767 - val_loss: 0.9871 - val_accuracy: 0.3673\n",
            "Epoch 133/140\n",
            "7/7 [==============================] - 0s 10ms/step - loss: 0.8668 - accuracy: 0.4767 - val_loss: 0.9818 - val_accuracy: 0.3673\n",
            "Epoch 134/140\n",
            "7/7 [==============================] - 0s 9ms/step - loss: 0.8717 - accuracy: 0.4767 - val_loss: 0.9762 - val_accuracy: 0.3673\n",
            "Epoch 135/140\n",
            "7/7 [==============================] - 0s 8ms/step - loss: 0.8873 - accuracy: 0.4767 - val_loss: 0.9688 - val_accuracy: 0.3673\n",
            "Epoch 136/140\n",
            "7/7 [==============================] - 0s 7ms/step - loss: 0.8554 - accuracy: 0.4767 - val_loss: 0.9614 - val_accuracy: 0.3673\n",
            "Epoch 137/140\n",
            "7/7 [==============================] - 0s 9ms/step - loss: 0.8492 - accuracy: 0.4767 - val_loss: 0.9536 - val_accuracy: 0.3673\n",
            "Epoch 138/140\n",
            "7/7 [==============================] - 0s 11ms/step - loss: 0.8565 - accuracy: 0.4767 - val_loss: 0.9463 - val_accuracy: 0.3673\n",
            "Epoch 139/140\n",
            "7/7 [==============================] - 0s 9ms/step - loss: 0.8532 - accuracy: 0.4767 - val_loss: 0.9402 - val_accuracy: 0.3673\n",
            "Epoch 140/140\n",
            "7/7 [==============================] - 0s 12ms/step - loss: 0.8699 - accuracy: 0.4767 - val_loss: 0.9355 - val_accuracy: 0.3673\n",
            "2/2 [==============================] - 0s 9ms/step - loss: 0.9355 - accuracy: 0.3673\n",
            "Loss:  0.9354575276374817\n",
            "Acurracy:  0.36734694242477417\n"
          ]
        }
      ]
    },
    {
      "cell_type": "code",
      "source": [
        "# Ploting a Loss curve\n",
        "\n",
        "plt.plot(history.history['loss'], label=\"Train Loss\")\n",
        "plt.plot(history.history[\"val_loss\"], label=\"Val Loss\")\n",
        "plt.title(\"Model Loss\")\n",
        "plt.xlabel(\"Epochs\")\n",
        "plt.ylabel(\"Loss\")\n",
        "\n",
        "plt.legend()\n",
        "plt.show()\n"
      ],
      "metadata": {
        "colab": {
          "base_uri": "https://localhost:8080/",
          "height": 472
        },
        "id": "LLoaoVvj1Zdr",
        "outputId": "09e7a175-8aa1-49c1-c06d-0778f8fe5f5e"
      },
      "execution_count": null,
      "outputs": [
        {
          "output_type": "display_data",
          "data": {
            "text/plain": [
              "<Figure size 640x480 with 1 Axes>"
            ],
            "image/png": "[encoded data removed]"
          },
          "metadata": {}
        }
      ]
    },
    {
      "cell_type": "markdown",
      "source": [
        "## Making a prediction\n"
      ],
      "metadata": {
        "id": "isaO0Z_5vN4i"
      }
    },
    {
      "cell_type": "code",
      "source": [
        "# Getting the latest data\n",
        "\n",
        "recent_data = yf.download(\"PETR4.SA\", period=\"1d\")\n",
        "\n",
        "print(recent_data)"
      ],
      "metadata": {
        "colab": {
          "base_uri": "https://localhost:8080/"
        },
        "id": "MoXlxQs3vWAJ",
        "outputId": "cc0860b6-9e7e-4ce9-e3c3-9ac3fbd5d8c5"
      },
      "execution_count": null,
      "outputs": [
        {
          "output_type": "stream",
          "name": "stderr",
          "text": [
            "\r[*********************100%%**********************]  1 of 1 completed"
          ]
        },
        {
          "output_type": "stream",
          "name": "stdout",
          "text": [
            "             Open   High        Low      Close  Adj Close    Volume\n",
            "Date                                                               \n",
            "2024-02-20  42.77  42.82  42.099998  42.310001  42.310001  23883100\n"
          ]
        },
        {
          "output_type": "stream",
          "name": "stderr",
          "text": [
            "\n"
          ]
        }
      ]
    },
    {
      "cell_type": "code",
      "source": [
        "# Making a prediction\n",
        "\n",
        "prediction_tensor = tf.constant(recent_data)\n",
        "prediction = tf.nn.sigmoid(model.predict(prediction_tensor))\n",
        "\n",
        "print(prediction)"
      ],
      "metadata": {
        "colab": {
          "base_uri": "https://localhost:8080/"
        },
        "id": "QPw-kcT1xlPe",
        "outputId": "044b4dfe-7a2f-4603-a2f5-2816b78933dd"
      },
      "execution_count": null,
      "outputs": [
        {
          "output_type": "stream",
          "name": "stdout",
          "text": [
            "1/1 [==============================] - 0s 24ms/step\n",
            "tf.Tensor([[1.]], shape=(1, 1), dtype=float32)\n"
          ]
        }
      ]
    }
  ]
}